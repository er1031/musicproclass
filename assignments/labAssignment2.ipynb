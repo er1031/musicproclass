{
  "cells": [
    {
      "cell_type": "markdown",
      "metadata": {
        "id": "view-in-github",
        "colab_type": "text"
      },
      "source": [
        "<a href=\"https://colab.research.google.com/github/er1031/musicproclass/blob/main/assignments/labAssignment2.ipynb\" target=\"_parent\"><img src=\"https://colab.research.google.com/assets/colab-badge.svg\" alt=\"Open In Colab\"/></a>"
      ]
    },
    {
      "cell_type": "code",
      "execution_count": 15,
      "metadata": {
        "colab": {
          "base_uri": "https://localhost:8080/"
        },
        "id": "TvzGNqHd52M1",
        "outputId": "adff8f23-70f3-4e68-e0c8-78f9b5ad12fe"
      },
      "outputs": [
        {
          "output_type": "stream",
          "name": "stdout",
          "text": [
            "fatal: destination path 'musicComputing2025' already exists and is not an empty directory.\n"
          ]
        }
      ],
      "source": [
        "# import libraries\n",
        "import numpy as np\n",
        "import matplotlib.pylab as plt\n",
        "import librosa.display\n",
        "import IPython.display\n",
        "import librosa\n",
        "\n",
        "# import audio files\n",
        "!git clone https://github.com/jcdevaney/musicComputing2025.git"
      ]
    },
    {
      "cell_type": "code",
      "execution_count": 16,
      "metadata": {
        "id": "L9c7z7rm52M2"
      },
      "outputs": [],
      "source": [
        "def plotAudio2(sig,sampleRate,title):\n",
        "\n",
        "\n",
        "   # Adjust the x-axis to represent time\n",
        "   time=np.arange(0,sig.shape[0])/sr\n",
        "\n",
        "\n",
        "   # Scale the y-axis to represent amplitude from -1 to 1\n",
        "   excursion=max(abs(sig))\n",
        "   sigNew = sig / excursion\n",
        "\n",
        "\n",
        "   # Label the x and y axes with variables\n",
        "   xlabel = 'Time (seconds)'\n",
        "   ylabel = 'Amplitude'\n",
        "\n",
        "\n",
        "   #plot the signal using the x and y axis variables\n",
        "   plt.plot(time,sigNew)\n",
        "   plt.xlabel(xlabel)\n",
        "   plt.ylabel(ylabel)\n",
        "   plt.title(title)\n",
        "   plt.show()\n",
        "\n",
        "\n"
      ]
    },
    {
      "cell_type": "code",
      "execution_count": 17,
      "metadata": {
        "id": "ePlIFlDj52M2"
      },
      "outputs": [],
      "source": [
        "def subplots(plotPos,title,data,time,color,ylabel,xlabel):\n",
        "\n",
        "    #plot the inputted data into the subplot specified in the list plotPos\n",
        "    plt.subplot(plotPos[0],plotPos[1],plotPos[2])\n",
        "    plt.title(title)\n",
        "    plt.plot(time,data,color)\n",
        "    plt.ylabel(ylabel)\n",
        "    plt.xlabel(xlabel)"
      ]
    },
    {
      "cell_type": "code",
      "execution_count": 18,
      "metadata": {
        "id": "a93eZznN52M3"
      },
      "outputs": [],
      "source": [
        "def makeEchoes(sig,sr,sec,echoes):\n",
        "\n",
        "    #calculate the number of bytes which corresponds to the offset in milliseconds\n",
        "    offset=int(sr*sec)\n",
        "\n",
        "    #add extra space at the end for the delays\n",
        "    ending = np.zeros((offset*(len(echoes))))\n",
        "\n",
        "    delayedSig = np.concatenate((sig,ending))\n",
        "\n",
        "    for i in range(len(echoes)):\n",
        "\n",
        "        #create some silence\n",
        "        # python indexes starting with zero which is why you need to add one\n",
        "        beginning = np.zeros(offset*(i+1))\n",
        "\n",
        "        #create delayed version of signal\n",
        "        delay = np.concatenate((beginning,sig))\n",
        "        delay = delay * echoes[i]\n",
        "\n",
        "        #pad the end of delay with zeros to make it the same length as delaysedSig\n",
        "        delay = np.concatenate((delay,np.zeros((delayedSig.size-delay.size))))\n",
        "\n",
        "        # combine with output signal\n",
        "        delayedSig = delayedSig + delay\n",
        "\n",
        "    return delayedSig"
      ]
    },
    {
      "cell_type": "code",
      "execution_count": 19,
      "metadata": {
        "id": "pPbWbozx52M3"
      },
      "outputs": [],
      "source": [
        "def amplitudeModulation(sig,modulatorFreq,modulatorAmp,modIndex):\n",
        "\n",
        "    # create a time series from 0 to 1 the length of the inputted sig\n",
        "    timeSeries = np.linspace(0, 1, len(sig))\n",
        "    #create a cosine wave modulator with the time series using the inputted modulation frequency\n",
        "    #with the np.cos function and multiple it by the inputted modulation amplitude\n",
        "    modulator = modulatorAmp * np.cos (2 * np.pi * modulatorFreq * timeSeries)\n",
        "    #perform amplitude modulation by multiplying the inputted sig with the modulator\n",
        "    #(multiplied by 1 + modulation index)\n",
        "    amMod = (1 + modIndex * modulator) * sig\n",
        "\n",
        "    #create a time series to represent time for plotting\n",
        "    time=np.arange(0,sig.shape[0])/sr\n",
        "\n",
        "    #plot the modulator, the carrier (sig), and the result of the amplitude modulation (amMod)\n",
        "    subplots([3,1,1],'Modulator signal',modulator,time,'g','Amplitude','Time')\n",
        "    subplots([3,1,2],'Original (carrier) signal',sig,time,'r','Amplitude','Time')\n",
        "    subplots([3,1,3],'Amplitude Modulated Signal',amMod,time,'purple','Amplitude','Time')\n",
        "\n",
        "    plt.subplots_adjust(hspace=1)\n",
        "    plt.rc('font', size=15)\n",
        "    fig = plt.gcf()\n",
        "    fig.set_size_inches(16, 9)\n",
        "\n",
        "    return amMod"
      ]
    },
    {
      "cell_type": "code",
      "execution_count": 20,
      "metadata": {
        "id": "Acs3h-nH52M4",
        "outputId": "3f87f9cf-c7d2-460f-d7e1-3d48243421f4",
        "colab": {
          "base_uri": "https://localhost:8080/",
          "height": 106
        }
      },
      "outputs": [
        {
          "output_type": "error",
          "ename": "SyntaxError",
          "evalue": "positional argument follows keyword argument (<ipython-input-20-6ef5423ffd3d>, line 20)",
          "traceback": [
            "\u001b[0;36m  File \u001b[0;32m\"<ipython-input-20-6ef5423ffd3d>\"\u001b[0;36m, line \u001b[0;32m20\u001b[0m\n\u001b[0;31m    plotAudio2(sig=amMod,sampleRate=sr,'Modulator Signal')\u001b[0m\n\u001b[0m                                                         ^\u001b[0m\n\u001b[0;31mSyntaxError\u001b[0m\u001b[0;31m:\u001b[0m positional argument follows keyword argument\n"
          ]
        }
      ],
      "source": [
        "# create a function called echoAM() that inputs\n",
        "#      - an audio signal\n",
        "#      - the audio signal’s sampling rate\n",
        "#      - a delay time (in seconds)\n",
        "#      - a list containing the amplitude for the delays (# of delays specified by the length of the list)\n",
        "#      - an amplitude modulation frequency\n",
        "#      - an amplitude modulation amplitude\n",
        "#      - a modulation index\n",
        "def echoAM(sig,sr,delay,echoes,modulatorFreq,modulatorAmp,modIndex):\n",
        "\n",
        "  # plot the original signal in the time domain using plotAudio2()\n",
        "  plotAudio2(sig,sr,'original signal')\n",
        "  # use makeEchoes() to apply a delay according to the inputted values to the inputted signal\n",
        "  makeEchoes(sig,sr,sec,echoes)\n",
        "  # plot the delay in the time domain using plotAudio2()\n",
        "  plotAudio2(delay,sr,'delayed signal')\n",
        "  # use amplitudeModulation() to apply amplitude modulation according to the inputted\n",
        "  amplitudeModulation(sig=delay,modulatorFreq=modulatorFreq,modulatorAmp=modulatorAmp,modIndex=modIndex)\n",
        "  # plot the Modulator Signal, Carrier Signal, and Product Signal in the time domain using plotAudio2()\n",
        "  plotAudio2(sig=amMod,sampleRate=sr,'Modulator Signal')\n",
        "  plotAudio2(sig=delay,sampleRate=sr,'Carrier Signal')\n",
        "  plotAudio2(sig=amMod*delay,sampleRate=sr,'Product Signal')\n",
        "  # to the delayed signal and to plot the Modulator Signal, Carrier Signal, and Product Signal\n",
        "  # as subplots in a single plot\n",
        "  amMod = amplitudeModulation(sig=delay,modulatorFreq=modulatorFreq,modulatorAmp=modulatorAmp,modIndex=modIndex)\n",
        "  # return the modified signal\n",
        "  return amMod"
      ]
    },
    {
      "cell_type": "code",
      "execution_count": null,
      "metadata": {
        "id": "pegBfJVD52M4"
      },
      "outputs": [],
      "source": [
        "# load original signal\n",
        "sig , sr = librosa.load('musicComputing2025/audioFiles/avm.wav')\n",
        "IPython.display.Audio(data=sig, rate=sr)"
      ]
    },
    {
      "cell_type": "code",
      "execution_count": null,
      "metadata": {
        "id": "FSBKR1hk52M5"
      },
      "outputs": [],
      "source": [
        "echoes = [1,1,1]\n",
        "delay = 0.5\n",
        "modulatorFreq = 20\n",
        "modulatorAmp = 0.5\n",
        "modIndex = 1\n",
        "\n",
        "modSignal1 = echoAM(sig,sr,delay,echoes,modulatorFreq,modulatorAmp,modIndex)\n",
        "\n",
        "IPython.display.Audio(data=modSignal1, rate=sr)"
      ]
    },
    {
      "cell_type": "code",
      "execution_count": null,
      "metadata": {
        "id": "kJCL377F52M5"
      },
      "outputs": [],
      "source": [
        "echoes = [1,0.5,0.25,0.125,0.0625,0.03125]\n",
        "delay = 0.5\n",
        "modulatorFreq = 20\n",
        "modulatorAmp = 0.5\n",
        "modIndex = 1\n",
        "\n",
        "modSignal2 = echoAM(sig,sr,delay,echoes,modulatorFreq,modulatorAmp,modIndex)\n",
        "\n",
        "IPython.display.Audio(data=modSignal2, rate=sr)"
      ]
    },
    {
      "cell_type": "code",
      "execution_count": null,
      "metadata": {
        "id": "cyE-dop652M6"
      },
      "outputs": [],
      "source": [
        "echoes = [1,1,1,1]\n",
        "delay = 0.5\n",
        "modulatorFreq = 200\n",
        "modulatorAmp = 0.5\n",
        "modIndex = 0.5\n",
        "\n",
        "modSignal3 = echoAM(sig,sr,delay,echoes,modulatorFreq,modulatorAmp,modIndex)\n",
        "\n",
        "IPython.display.Audio(data=modSignal3, rate=sr)"
      ]
    },
    {
      "cell_type": "code",
      "execution_count": null,
      "metadata": {
        "id": "iI1R-WsC52M6"
      },
      "outputs": [],
      "source": [
        "echoes = [1,0.5,0.25,0.125,0.0625,0.03125]\n",
        "delay = 0.5\n",
        "modulatorFreq = 200\n",
        "modulatorAmp = 0.5\n",
        "modIndex = 0.5\n",
        "\n",
        "modSignal4 = echoAM(sig,sr,delay,echoes,modulatorFreq,modulatorAmp,modIndex)\n",
        "\n",
        "IPython.display.Audio(data=modSignal4, rate=sr)"
      ]
    }
  ],
  "metadata": {
    "kernelspec": {
      "display_name": "Python 3",
      "language": "python",
      "name": "python3"
    },
    "language_info": {
      "codemirror_mode": {
        "name": "ipython",
        "version": 3
      },
      "file_extension": ".py",
      "mimetype": "text/x-python",
      "name": "python",
      "nbconvert_exporter": "python",
      "pygments_lexer": "ipython3",
      "version": "3.6.4"
    },
    "colab": {
      "provenance": [],
      "include_colab_link": true
    }
  },
  "nbformat": 4,
  "nbformat_minor": 0
}