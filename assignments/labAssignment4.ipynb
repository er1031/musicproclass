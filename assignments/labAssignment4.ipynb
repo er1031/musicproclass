{
  "nbformat": 4,
  "nbformat_minor": 0,
  "metadata": {
    "colab": {
      "provenance": [],
      "include_colab_link": true
    },
    "kernelspec": {
      "name": "python3",
      "display_name": "Python 3"
    },
    "language_info": {
      "name": "python"
    }
  },
  "cells": [
    {
      "cell_type": "markdown",
      "metadata": {
        "id": "view-in-github",
        "colab_type": "text"
      },
      "source": [
        "<a href=\"https://colab.research.google.com/github/er1031/musicproclass/blob/main/assignments/labAssignment4.ipynb\" target=\"_parent\"><img src=\"https://colab.research.google.com/assets/colab-badge.svg\" alt=\"Open In Colab\"/></a>"
      ]
    },
    {
      "cell_type": "code",
      "execution_count": 75,
      "metadata": {
        "id": "MIwOrFnLQsi7"
      },
      "outputs": [],
      "source": [
        "import numpy as np\n",
        "import matplotlib.pyplot as plt\n",
        "import librosa\n",
        "import librosa.display\n",
        "import IPython.display"
      ]
    },
    {
      "cell_type": "code",
      "source": [
        "def plotAudio2(sig,sampleRate,title):\n",
        "\n",
        "    # from Assignment 2/Google Doc\n",
        "\n",
        "\n",
        "   # Adjust the x-axis to represent time\n",
        "   time=np.arange(0,sig.shape[0])/sr\n",
        "\n",
        "\n",
        "   # Scale the y-axis to represent amplitude from -1 to 1\n",
        "   excursion=max(abs(sig))\n",
        "   sigNew = sig / excursion\n",
        "\n",
        "\n",
        "   # Label the x and y axes with variables\n",
        "   xlabel = 'Time (seconds)'\n",
        "   ylabel = 'Amplitude'\n",
        "\n",
        "\n",
        "   #plot the signal using the x and y axis variables\n",
        "   plt.plot(time,sigNew)\n",
        "   plt.xlabel(xlabel)\n",
        "   plt.ylabel(ylabel)\n",
        "   plt.title(title)\n",
        "   plt.show()"
      ],
      "metadata": {
        "id": "UhHY5gfiRIDf"
      },
      "execution_count": 76,
      "outputs": []
    },
    {
      "cell_type": "code",
      "source": [
        "def plotAudioFreqDomain():\n",
        "\n",
        "    # from Assignment 3\n",
        "    # create a normalized spectrogram\n",
        "    # this includes several function calls\n",
        "    # first create a basic specgrogram with librosa.stft() with the default window size (2048)\n",
        "    # then make all of values in the spectrogram positive with np.abs()\n",
        "    # then scale the spectogram to be in decibels, so it better reflects how we hear librosa.amplitude_to_db()\n",
        "    spec = librosa.amplitude_to_db(np.abs(librosa.stft(sig)), ref=np.max)\n",
        "\n",
        "    # display the normalized spectrogram with a linear frequency scale\n",
        "    librosa.display.specshow(spec, y_axis='linear')\n",
        "    plt.colorbar(format='%+2.0f dB')\n",
        "    plt.title('Linear-frequency power spectrogram')\n",
        "    plt.show()"
      ],
      "metadata": {
        "id": "da2LkB5ORI3G"
      },
      "execution_count": 77,
      "outputs": []
    },
    {
      "cell_type": "code",
      "source": [
        "def additiveSynthesis(samplingRate,frequency,numHarmonics,seqHarm,ampExponent):\n",
        "\n",
        "   # from additiveSynthesis.ipynb\n",
        "   def additiveSynthesis(samplingRate,frequency,numHarmonics,seqHarm,ampExponent):\n",
        "\n",
        "    # generate list of harmonics\n",
        "    harmonics = np.arange(1,numHarmonics+1,seqHarm)\n",
        "\n",
        "    # create a time series from 0 to 1 the inputted length\n",
        "    timeSeries = np.linspace(0, 1, samplingRate)\n",
        "\n",
        "    # create a cosine wave for the fundamental\n",
        "    signal = np.cos(2.0 * np.pi * frequency * timeSeries)\n",
        "\n",
        "    # add harmonics based on the those specified in the variable 'harmonics'\n",
        "    for harm in harmonics:\n",
        "        signal = signal + np.cos(2.0 * np.pi * frequency * harm * timeSeries)/harm**ampExponent\n",
        "\n",
        "    # scale the signal to between -1 and 1\n",
        "    excursion=max(abs(signal))\n",
        "    signal = signal / excursion\n",
        "\n",
        "    # plot signal\n",
        "    plt.plot(timeSeries,signal)\n",
        "    plt.xlabel('Time (Sec)')\n",
        "    plt.ylabel('Amplitude')\n",
        "    plt.title('Additive Synthesis')\n",
        "    plt.plot\n",
        "\n",
        "    return signal"
      ],
      "metadata": {
        "id": "QBLS6mXhRVsB"
      },
      "execution_count": 78,
      "outputs": []
    },
    {
      "cell_type": "code",
      "source": [
        "def makeWaveforms(frequency,samplingRate,numHarmonics,waveType):\n",
        "    # use an if/elif/else statement to set up the parameters for\n",
        "    # the different type of waveforms based on the code in\n",
        "    # additiveSynthesis.ipynb\n",
        "    # if, elif (else if) and else can be used to evaluate the contents of a variable\n",
        "    if waveType == 'sawtooth':\n",
        "        seqHarm = 1\n",
        "        ampExponent = 1\n",
        "    elif waveType == 'triangle':\n",
        "        seqHarm = 1\n",
        "        ampExponent = 1\n",
        "    elif waveType == 'square':\n",
        "        seqHarm = 1\n",
        "        ampExponent = 1\n",
        "    else:\n",
        "        seqHarm = 1\n",
        "        ampExponent = 1\n",
        "\n",
        "    # call additiveSynthesis() to generate a waveform\n",
        "    additiveSynthesis(samplingRate,frequency,numHarmonics,seqHarm,ampExponent)\n",
        "    # return the generated waveform (signal)\n",
        "    signal = additiveSynthesis(samplingRate,frequency,numHarmonics,seqHarm,ampExponent)\n",
        "    return signal"
      ],
      "metadata": {
        "id": "Xg02ng-gWYQy"
      },
      "execution_count": 79,
      "outputs": []
    },
    {
      "cell_type": "code",
      "source": [
        "def visualizeWaveforms(frequency, samplingRate, numHarmonics, waveType):\n",
        "  # call makeWaveform()\n",
        "  # test whether makeWaveforms() runs without error before you try plotting anything\n",
        "  makeWaveforms(frequency,samplingRate,numHarmonics,waveType)\n",
        "  # call plotAudio2()\n",
        "  plotAudio2(sig,sampleRate,title)\n",
        "  # call plotAudioFreqDomain()\n",
        "  plotAudioFreqDomain()\n",
        "  # return the output of makeWaveform()\n",
        "  return makewaveform"
      ],
      "metadata": {
        "id": "SunRmpf6Wn63"
      },
      "execution_count": 80,
      "outputs": []
    },
    {
      "cell_type": "code",
      "source": [
        "frequency = 100\n",
        "samplingRate = 44100\n",
        "numHarmonics = 100\n",
        "waveType = 'sine'\n",
        "winSize = 1024\n",
        "specType = 'log'\n",
        "visualizeWaveforms(frequency, samplingRate, numHarmonics, waveType)\n",
        "\n",
        "#visualizeWaveforms()\n",
        "#IPython.display.Audio()"
      ],
      "metadata": {
        "id": "MBNM9MMwSV2r",
        "outputId": "09022a27-31c8-415c-bd83-68f2f77583b8",
        "colab": {
          "base_uri": "https://localhost:8080/",
          "height": 321
        }
      },
      "execution_count": 81,
      "outputs": [
        {
          "output_type": "error",
          "ename": "NameError",
          "evalue": "name 'signal' is not defined",
          "traceback": [
            "\u001b[0;31m---------------------------------------------------------------------------\u001b[0m",
            "\u001b[0;31mNameError\u001b[0m                                 Traceback (most recent call last)",
            "\u001b[0;32m<ipython-input-81-bda7f94c2ef9>\u001b[0m in \u001b[0;36m<cell line: 0>\u001b[0;34m()\u001b[0m\n\u001b[1;32m      5\u001b[0m \u001b[0mwinSize\u001b[0m \u001b[0;34m=\u001b[0m \u001b[0;36m1024\u001b[0m\u001b[0;34m\u001b[0m\u001b[0;34m\u001b[0m\u001b[0m\n\u001b[1;32m      6\u001b[0m \u001b[0mspecType\u001b[0m \u001b[0;34m=\u001b[0m \u001b[0;34m'log'\u001b[0m\u001b[0;34m\u001b[0m\u001b[0;34m\u001b[0m\u001b[0m\n\u001b[0;32m----> 7\u001b[0;31m \u001b[0mvisualizeWaveforms\u001b[0m\u001b[0;34m(\u001b[0m\u001b[0mfrequency\u001b[0m\u001b[0;34m,\u001b[0m \u001b[0msamplingRate\u001b[0m\u001b[0;34m,\u001b[0m \u001b[0mnumHarmonics\u001b[0m\u001b[0;34m,\u001b[0m \u001b[0mwaveType\u001b[0m\u001b[0;34m)\u001b[0m\u001b[0;34m\u001b[0m\u001b[0;34m\u001b[0m\u001b[0m\n\u001b[0m\u001b[1;32m      8\u001b[0m \u001b[0;34m\u001b[0m\u001b[0m\n\u001b[1;32m      9\u001b[0m \u001b[0;31m#visualizeWaveforms()\u001b[0m\u001b[0;34m\u001b[0m\u001b[0;34m\u001b[0m\u001b[0m\n",
            "\u001b[0;32m<ipython-input-80-2112c7ffbdcb>\u001b[0m in \u001b[0;36mvisualizeWaveforms\u001b[0;34m(frequency, samplingRate, numHarmonics, waveType)\u001b[0m\n\u001b[1;32m      2\u001b[0m   \u001b[0;31m# call makeWaveform()\u001b[0m\u001b[0;34m\u001b[0m\u001b[0;34m\u001b[0m\u001b[0m\n\u001b[1;32m      3\u001b[0m   \u001b[0;31m# test whether makeWaveforms() runs without error before you try plotting anything\u001b[0m\u001b[0;34m\u001b[0m\u001b[0;34m\u001b[0m\u001b[0m\n\u001b[0;32m----> 4\u001b[0;31m   \u001b[0mmakeWaveforms\u001b[0m\u001b[0;34m(\u001b[0m\u001b[0mfrequency\u001b[0m\u001b[0;34m,\u001b[0m\u001b[0msamplingRate\u001b[0m\u001b[0;34m,\u001b[0m\u001b[0mnumHarmonics\u001b[0m\u001b[0;34m,\u001b[0m\u001b[0mwaveType\u001b[0m\u001b[0;34m)\u001b[0m\u001b[0;34m\u001b[0m\u001b[0;34m\u001b[0m\u001b[0m\n\u001b[0m\u001b[1;32m      5\u001b[0m   \u001b[0;31m# call plotAudio2()\u001b[0m\u001b[0;34m\u001b[0m\u001b[0;34m\u001b[0m\u001b[0m\n\u001b[1;32m      6\u001b[0m   \u001b[0mplotAudio2\u001b[0m\u001b[0;34m(\u001b[0m\u001b[0msig\u001b[0m\u001b[0;34m,\u001b[0m\u001b[0msampleRate\u001b[0m\u001b[0;34m,\u001b[0m\u001b[0mtitle\u001b[0m\u001b[0;34m)\u001b[0m\u001b[0;34m\u001b[0m\u001b[0;34m\u001b[0m\u001b[0m\n",
            "\u001b[0;32m<ipython-input-79-0570c7226011>\u001b[0m in \u001b[0;36mmakeWaveforms\u001b[0;34m(frequency, samplingRate, numHarmonics, waveType)\u001b[0m\n\u001b[1;32m     20\u001b[0m     \u001b[0madditiveSynthesis\u001b[0m\u001b[0;34m(\u001b[0m\u001b[0msamplingRate\u001b[0m\u001b[0;34m,\u001b[0m\u001b[0mfrequency\u001b[0m\u001b[0;34m,\u001b[0m\u001b[0mnumHarmonics\u001b[0m\u001b[0;34m,\u001b[0m\u001b[0mseqHarm\u001b[0m\u001b[0;34m,\u001b[0m\u001b[0mampExponent\u001b[0m\u001b[0;34m)\u001b[0m\u001b[0;34m\u001b[0m\u001b[0;34m\u001b[0m\u001b[0m\n\u001b[1;32m     21\u001b[0m     \u001b[0;31m# return the generated waveform (signal)\u001b[0m\u001b[0;34m\u001b[0m\u001b[0;34m\u001b[0m\u001b[0m\n\u001b[0;32m---> 22\u001b[0;31m     \u001b[0;32mreturn\u001b[0m \u001b[0msignal\u001b[0m\u001b[0;34m\u001b[0m\u001b[0;34m\u001b[0m\u001b[0m\n\u001b[0m",
            "\u001b[0;31mNameError\u001b[0m: name 'signal' is not defined"
          ]
        }
      ]
    },
    {
      "cell_type": "code",
      "source": [
        "frequency = 100\n",
        "samplingRate = 44100\n",
        "numHarmonics = 100\n",
        "waveType = 'sawtooth'\n",
        "winSize = 1024\n",
        "specType = 'log'\n",
        "\n",
        "#visualizeWaveforms()\n",
        "#IPython.display.Audio()"
      ],
      "metadata": {
        "id": "GKWxd4dHWG_B"
      },
      "execution_count": 82,
      "outputs": []
    },
    {
      "cell_type": "code",
      "source": [
        "frequency = 100\n",
        "samplingRate = 44100\n",
        "numHarmonics = 100\n",
        "waveType = 'triangle'\n",
        "winSize = 1024\n",
        "specType = 'log'\n",
        "\n",
        "#visualizeWaveforms()\n",
        "#IPython.display.Audio()"
      ],
      "metadata": {
        "id": "goh3AlgaWLMq"
      },
      "execution_count": 83,
      "outputs": []
    },
    {
      "cell_type": "code",
      "source": [
        "frequency = 100\n",
        "samplingRate = 44100\n",
        "numHarmonics = 100\n",
        "waveType = 'square'\n",
        "winSize = 1024\n",
        "specType = 'log'\n",
        "\n",
        "#visualizeWaveforms()\n",
        "#IPython.display.Audio()"
      ],
      "metadata": {
        "id": "GB4BGoA3WQhv"
      },
      "execution_count": 84,
      "outputs": []
    }
  ]
}