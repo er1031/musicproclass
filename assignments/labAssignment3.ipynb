{
  "nbformat": 4,
  "nbformat_minor": 0,
  "metadata": {
    "colab": {
      "provenance": [],
      "include_colab_link": true
    },
    "kernelspec": {
      "name": "python3",
      "display_name": "Python 3"
    },
    "language_info": {
      "name": "python"
    }
  },
  "cells": [
    {
      "cell_type": "markdown",
      "metadata": {
        "id": "view-in-github",
        "colab_type": "text"
      },
      "source": [
        "<a href=\"https://colab.research.google.com/github/er1031/musicproclass/blob/main/assignments/labAssignment3.ipynb\" target=\"_parent\"><img src=\"https://colab.research.google.com/assets/colab-badge.svg\" alt=\"Open In Colab\"/></a>"
      ]
    },
    {
      "cell_type": "code",
      "execution_count": 21,
      "metadata": {
        "colab": {
          "base_uri": "https://localhost:8080/"
        },
        "id": "TmarR4mwTVhz",
        "outputId": "8f15decd-956b-4a66-f53a-bc1f7ee6647b"
      },
      "outputs": [
        {
          "output_type": "stream",
          "name": "stdout",
          "text": [
            "fatal: destination path 'musicComputing2025' already exists and is not an empty directory.\n"
          ]
        }
      ],
      "source": [
        "import numpy as np\n",
        "import matplotlib.pylab as plt\n",
        "import librosa.display\n",
        "import IPython.display\n",
        "import librosa\n",
        "\n",
        "#import audio files\n",
        "!git clone https://github.com/jcdevaney/musicComputing2025.git"
      ]
    },
    {
      "cell_type": "code",
      "source": [
        "def plotAudio2(sig,sampleRate,title):\n",
        "\n",
        "\n",
        "   # Adjust the x-axis to represent time\n",
        "   time=np.arange(0,sig.shape[0])/sr\n",
        "\n",
        "\n",
        "   # Scale the y-axis to represent amplitude from -1 to 1\n",
        "   excursion=max(abs(sig))\n",
        "   sigNew = sig / excursion\n",
        "\n",
        "\n",
        "   # Label the x and y axes with variables\n",
        "   xlabel = 'Time (seconds)'\n",
        "   ylabel = 'Amplitude'\n",
        "\n",
        "\n",
        "   #plot the signal using the x and y axis variables\n",
        "   plt.plot(time,sigNew)\n",
        "   plt.xlabel(xlabel)\n",
        "   plt.ylabel(ylabel)\n",
        "   plt.title(title)\n",
        "   plt.show()"
      ],
      "metadata": {
        "id": "48TNxtqpUd-r"
      },
      "execution_count": 22,
      "outputs": []
    },
    {
      "cell_type": "code",
      "source": [
        "def plotAudioFreqDomain(sig,sr,title,winSize,specType):\n",
        "\n",
        "    # create a normalized spectrogram\n",
        "    # this includes several function calls\n",
        "    # first create a basic specgrogram with librosa.stft() with the default window size (2048)\n",
        "    # then make all of values in the spectrogram positive with np.abs()\n",
        "    # then scale the spectogram to be in decibels, so it better reflects how we hear librosa.amplitude_to_db()\n",
        "    spec = librosa.amplitude_to_db(np.abs(librosa.stft(sig)), ref=np.max)\n",
        "\n",
        "    # display the normalized spectrogram with a linear frequency scale\n",
        "    librosa.display.specshow(spec, y_axis='linear')\n",
        "    plt.colorbar(format='%+2.0f dB')\n",
        "    plt.title('Linear-frequency power spectrogram')\n",
        "    plt.show()\n",
        "\n"
      ],
      "metadata": {
        "id": "zaGJ57wLXSFv"
      },
      "execution_count": 23,
      "outputs": []
    },
    {
      "cell_type": "code",
      "source": [
        "def plotAudioFunc(sig,sr,title,winSize,specType):\n",
        "\n",
        "    #call plotAudio2\n",
        "    plotAudio2(sig,sr,title)\n",
        "    #call plotAudioFreqDomain\n",
        "    plotAudioFreqDomain(sig,sr,title,winSize,specType)\n"
      ],
      "metadata": {
        "id": "NmSM8IMyXlke"
      },
      "execution_count": 24,
      "outputs": []
    },
    {
      "cell_type": "code",
      "source": [
        "sig , sr = librosa.load('musicComputing2025/audioFiles/avm.wav')"
      ],
      "metadata": {
        "id": "xXL_AOl9aD0W"
      },
      "execution_count": 25,
      "outputs": []
    },
    {
      "cell_type": "code",
      "source": [
        "title = 'Ave Maria'\n",
        "winSize = 2048\n",
        "specType = 'linear'\n",
        "\n",
        "#call plotAudioFunc\n",
        "plotAudio2(title,winSize,specType)"
      ],
      "metadata": {
        "colab": {
          "base_uri": "https://localhost:8080/",
          "height": 297
        },
        "id": "N6-AE3cOaJo9",
        "outputId": "1a3cfd0c-97a0-4fe1-a5e8-d89e19bacaa2"
      },
      "execution_count": 27,
      "outputs": [
        {
          "output_type": "error",
          "ename": "AttributeError",
          "evalue": "'str' object has no attribute 'shape'",
          "traceback": [
            "\u001b[0;31m---------------------------------------------------------------------------\u001b[0m",
            "\u001b[0;31mAttributeError\u001b[0m                            Traceback (most recent call last)",
            "\u001b[0;32m<ipython-input-27-8a7f5871af4e>\u001b[0m in \u001b[0;36m<cell line: 0>\u001b[0;34m()\u001b[0m\n\u001b[1;32m      4\u001b[0m \u001b[0;34m\u001b[0m\u001b[0m\n\u001b[1;32m      5\u001b[0m \u001b[0;31m#call plotAudioFunc\u001b[0m\u001b[0;34m\u001b[0m\u001b[0;34m\u001b[0m\u001b[0m\n\u001b[0;32m----> 6\u001b[0;31m \u001b[0mplotAudio2\u001b[0m\u001b[0;34m(\u001b[0m\u001b[0mtitle\u001b[0m\u001b[0;34m,\u001b[0m\u001b[0mwinSize\u001b[0m\u001b[0;34m,\u001b[0m\u001b[0mspecType\u001b[0m\u001b[0;34m)\u001b[0m\u001b[0;34m\u001b[0m\u001b[0;34m\u001b[0m\u001b[0m\n\u001b[0m",
            "\u001b[0;32m<ipython-input-22-2af59239335f>\u001b[0m in \u001b[0;36mplotAudio2\u001b[0;34m(sig, sampleRate, title)\u001b[0m\n\u001b[1;32m      3\u001b[0m \u001b[0;34m\u001b[0m\u001b[0m\n\u001b[1;32m      4\u001b[0m    \u001b[0;31m# Adjust the x-axis to represent time\u001b[0m\u001b[0;34m\u001b[0m\u001b[0;34m\u001b[0m\u001b[0m\n\u001b[0;32m----> 5\u001b[0;31m    \u001b[0mtime\u001b[0m\u001b[0;34m=\u001b[0m\u001b[0mnp\u001b[0m\u001b[0;34m.\u001b[0m\u001b[0marange\u001b[0m\u001b[0;34m(\u001b[0m\u001b[0;36m0\u001b[0m\u001b[0;34m,\u001b[0m\u001b[0msig\u001b[0m\u001b[0;34m.\u001b[0m\u001b[0mshape\u001b[0m\u001b[0;34m[\u001b[0m\u001b[0;36m0\u001b[0m\u001b[0;34m]\u001b[0m\u001b[0;34m)\u001b[0m\u001b[0;34m/\u001b[0m\u001b[0msr\u001b[0m\u001b[0;34m\u001b[0m\u001b[0;34m\u001b[0m\u001b[0m\n\u001b[0m\u001b[1;32m      6\u001b[0m \u001b[0;34m\u001b[0m\u001b[0m\n\u001b[1;32m      7\u001b[0m \u001b[0;34m\u001b[0m\u001b[0m\n",
            "\u001b[0;31mAttributeError\u001b[0m: 'str' object has no attribute 'shape'"
          ]
        }
      ]
    },
    {
      "cell_type": "code",
      "source": [
        "title = 'Ave Maria'\n",
        "winSize = 2048\n",
        "specType = 'log'\n",
        "\n",
        "#call plotAudioFunc\n",
        "plotAudio2(title,winSize,specType)\n"
      ],
      "metadata": {
        "id": "LZfdT5pzhND8"
      },
      "execution_count": null,
      "outputs": []
    },
    {
      "cell_type": "code",
      "source": [
        "title = 'Ave Maria'\n",
        "winSize = 256\n",
        "specType = 'linear'\n",
        "\n",
        "#call plotAudioFunc\n",
        "plotAudio2(title,winSize,specType)\n"
      ],
      "metadata": {
        "id": "vVSUD7l2h0rk"
      },
      "execution_count": null,
      "outputs": []
    },
    {
      "cell_type": "code",
      "source": [
        "title = 'Ave Maria'\n",
        "winSize = 256\n",
        "specType = 'log'\n",
        "\n",
        "# call plotAudioFunc\n",
        "plotAudio2(title,winSize,specType)\n"
      ],
      "metadata": {
        "id": "9xCuns6VjFUS"
      },
      "execution_count": null,
      "outputs": []
    }
  ]
}