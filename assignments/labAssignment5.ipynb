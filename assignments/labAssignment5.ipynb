{
  "cells": [
    {
      "cell_type": "markdown",
      "metadata": {
        "id": "view-in-github",
        "colab_type": "text"
      },
      "source": [
        "<a href=\"https://colab.research.google.com/github/er1031/musicproclass/blob/main/assignments/labAssignment5.ipynb\" target=\"_parent\"><img src=\"https://colab.research.google.com/assets/colab-badge.svg\" alt=\"Open In Colab\"/></a>"
      ]
    },
    {
      "cell_type": "code",
      "execution_count": 1,
      "metadata": {
        "id": "hGV_6TndQcqu"
      },
      "outputs": [],
      "source": [
        "# import libraries\n",
        "import numpy as np\n",
        "import matplotlib.pyplot as plt\n",
        "import librosa\n",
        "import librosa.display\n",
        "import IPython.display\n",
        "import scipy.signal as sg\n",
        "\n",
        "# import audio files\n",
        "!git clone https://github.com/jcdevaney/musicComputing2025.git"
      ]
    },
    {
      "cell_type": "code",
      "execution_count": 2,
      "metadata": {
        "id": "EbuV5u9SQcqu"
      },
      "outputs": [],
      "source": [
        "def plotTimeFreq(sig,sr,title,winSize,specType,fig):\n",
        "\n",
        "    # copy from filters.ipynb\n",
        "    # Adjust the x-axis to represent time\n",
        "    time=np.arange(0,sig.shape[0])/sr\n",
        "\n",
        "    # Scale the y-axis to represent amplitude from -1 to 1\n",
        "    excursion=max(abs(sig))\n",
        "    sigNew = sig / excursion\n",
        "\n",
        "    # Label the x and y axes with variables\n",
        "    xlabel = 'Time (seconds)'\n",
        "    ylabel = 'Amplitude'\n",
        "\n",
        "    # Create a new figure (using the figure number passed in as an argument)\n",
        "    plt.figure(fig)\n",
        "\n",
        "    # Create the first subplot\n",
        "    plt.subplot(2,1,1)\n",
        "\n",
        "    # Plot the time-domain representation of the inputted audio signal\n",
        "    plt.plot(time,sigNew)\n",
        "    plt.xlabel(xlabel)\n",
        "    plt.ylabel(ylabel)\n",
        "    plt.title(title)\n",
        "\n",
        "    # Create the second subplot\n",
        "    plt.subplot(2,1,2)\n",
        "\n",
        "    # Plot the frequency-domain representatio of the inputted audio signal\n",
        "    spec = librosa.amplitude_to_db(np.abs(librosa.stft(sig,n_fft=winSize)), ref=np.max)\n",
        "    librosa.display.specshow(spec, y_axis=specType)\n",
        "    plt.colorbar(format='%+2.0f dB')\n",
        "    plt.title(title)\n",
        "    plt.show\n"
      ]
    },
    {
      "cell_type": "code",
      "execution_count": 3,
      "metadata": {
        "id": "1ziRxPV6Qcqv",
        "colab": {
          "base_uri": "https://localhost:8080/",
          "height": 106
        },
        "outputId": "edd93dd2-3c4a-409b-b6cf-18d2d185ef0a"
      },
      "outputs": [
        {
          "output_type": "error",
          "ename": "SyntaxError",
          "evalue": "incomplete input (<ipython-input-3-4fce6d0f9a74>, line 25)",
          "traceback": [
            "\u001b[0;36m  File \u001b[0;32m\"<ipython-input-3-4fce6d0f9a74>\"\u001b[0;36m, line \u001b[0;32m25\u001b[0m\n\u001b[0;31m    # return the filtered signal\u001b[0m\n\u001b[0m                                ^\u001b[0m\n\u001b[0;31mSyntaxError\u001b[0m\u001b[0;31m:\u001b[0m incomplete input\n"
          ]
        }
      ],
      "source": [
        "def filterSignal():\n",
        "\n",
        "    # Inputs\n",
        "    #   - signal to filter (sig)\n",
        "    #   - sampling rate of the signal (sr)\n",
        "    #   - filter frequency/frequencies (freq)\n",
        "    #   - filter type (filtType)\n",
        "    #   - order of the filter (order)\n",
        "    #   - window size for the FFT (winSize)\n",
        "    #   - type of spectrogram, log or linear (specType)\n",
        "    #   - figure number (fig)\n",
        "\n",
        "    # use an if/elif/else statement with ‘or’ tests to set up the parameters for the different   type of filter based on the code in filters.ipynb and or.ipynb, specifically\n",
        "\t  #   if the filter type is ‘low’ or ‘high’\n",
        "\t\t#       filterFreq = freq / (sr / 2)\n",
        "\t  #   if the filter type if ‘bandpass’ or ‘bandstop’\n",
        "\t\t#       filterFreq = [freq[0] / (sr / 2), freq[1] / (sr / 2)]\n",
        "\n",
        "    # create a filter using using sg.butter()\n",
        "\n",
        "    # run the created filter on the inputting signal using sg.filtfilt()\n",
        "\n",
        "    # plot the filtered signal with plotTimeFreq(), use filtType for title\n",
        "\n",
        "    # return the filtered signal\n"
      ]
    },
    {
      "cell_type": "code",
      "execution_count": null,
      "metadata": {
        "id": "mgbVmNstQcqv"
      },
      "outputs": [],
      "source": [
        "def allFilters():\n",
        "\n",
        "    # Inputs\n",
        "    #   - signal to filter (sig)\n",
        "    #   - sampling rate of the signal (sr)\n",
        "    #   - filter frequency (freq)\n",
        "    #   - distance between the low and high band frequencies (width)\n",
        "    #   - order of the filter (order)\n",
        "    #   - window size for the FFT (winSize)\n",
        "    #   - type of spectrogram, log or linear (specType)\n",
        "\n",
        "    # call filterSignal() to run a low-pass filter on the inputting signal using\n",
        "    # the inputting filter frequency and filter order\n",
        "    # set fig equal to 1\n",
        "\n",
        "\n",
        "    # call filterSignal() to run a high-pass filter on the inputting signal\n",
        "    # using the inputting filter frequency and filter order\n",
        "    # set fig equal to 2\n",
        "\n",
        "    #call filterSignal() to run a band-pass filter on the inputting signal using\n",
        "    # the inputting filter frequency and filter order – filter frequency will be\n",
        "    # calculated using the inputted width parameter like this:\n",
        "    #                   [freq-width,freq+width]\n",
        "    # set fig equal to 3\n",
        "\n",
        "    # call filterSignal() to run a band-stop filter on the inputting signal using\n",
        "    # the inputting filter frequency and filter order – filter frequency will be\n",
        "    # calculated using the inputted width parameter like this:\n",
        "    #                   [freq-width,freq+width]\n",
        "    # set fig equal to 4\n",
        "\n",
        "\n",
        "    # return the output of the low-pass, high-pass, bandpass, and bandstop\n",
        "    # filtered signals\n"
      ]
    },
    {
      "cell_type": "code",
      "execution_count": null,
      "metadata": {
        "id": "AKw473iwQcqv"
      },
      "outputs": [],
      "source": [
        "sig , sr = librosa.load('musicComputing2025/audioFiles/avm.wav')\n",
        "winSize = 1024\n",
        "specType = 'log'\n",
        "fig = 1\n",
        "\n",
        "# Plot original signal with plotTimeFreq()\n",
        "\n",
        "# Play original signal with IPython.display.Audio()"
      ]
    },
    {
      "cell_type": "code",
      "execution_count": null,
      "metadata": {
        "id": "ArPWYDhrQcqw"
      },
      "outputs": [],
      "source": [
        "freq = 600\n",
        "width = 200\n",
        "order = 4\n",
        "\n",
        "# call allFilters() and save the output as sig_lp, sig_hp, sig_bp, sig_bs"
      ]
    },
    {
      "cell_type": "code",
      "execution_count": null,
      "metadata": {
        "scrolled": true,
        "id": "4SvL90DZQcqw"
      },
      "outputs": [],
      "source": [
        "# play the low-pass version of the signal with IPython.display.Audio()\n"
      ]
    },
    {
      "cell_type": "code",
      "execution_count": null,
      "metadata": {
        "id": "Na8XQjRkQcqw"
      },
      "outputs": [],
      "source": [
        "# play the high-pass version of the signal with IPython.display.Audio()\n"
      ]
    },
    {
      "cell_type": "code",
      "execution_count": null,
      "metadata": {
        "id": "utzK7GGzQcqw"
      },
      "outputs": [],
      "source": [
        "# play the band-pass version of the signal with IPython.display.Audio()\n"
      ]
    },
    {
      "cell_type": "code",
      "execution_count": null,
      "metadata": {
        "id": "b75u-qq9Qcqw"
      },
      "outputs": [],
      "source": [
        "# play the band-stop version of the signal with IPython.display.Audio()\n"
      ]
    }
  ],
  "metadata": {
    "kernelspec": {
      "display_name": "Python 3",
      "language": "python",
      "name": "python3"
    },
    "language_info": {
      "codemirror_mode": {
        "name": "ipython",
        "version": 3
      },
      "file_extension": ".py",
      "mimetype": "text/x-python",
      "name": "python",
      "nbconvert_exporter": "python",
      "pygments_lexer": "ipython3",
      "version": "3.6.4"
    },
    "colab": {
      "provenance": [],
      "include_colab_link": true
    }
  },
  "nbformat": 4,
  "nbformat_minor": 0
}