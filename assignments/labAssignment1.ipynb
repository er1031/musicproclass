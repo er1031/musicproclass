{
  "nbformat": 4,
  "nbformat_minor": 0,
  "metadata": {
    "colab": {
      "provenance": [],
      "include_colab_link": true
    },
    "kernelspec": {
      "name": "python3",
      "display_name": "Python 3"
    },
    "language_info": {
      "name": "python"
    }
  },
  "cells": [
    {
      "cell_type": "markdown",
      "metadata": {
        "id": "view-in-github",
        "colab_type": "text"
      },
      "source": [
        "<a href=\"https://colab.research.google.com/github/er1031/musicproclass/blob/main/assignments/labAssignment1.ipynb\" target=\"_parent\"><img src=\"https://colab.research.google.com/assets/colab-badge.svg\" alt=\"Open In Colab\"/></a>"
      ]
    },
    {
      "cell_type": "code",
      "execution_count": 54,
      "metadata": {
        "id": "JUQi5CFCIP0k",
        "colab": {
          "base_uri": "https://localhost:8080/"
        },
        "outputId": "78c25d6b-7895-4340-e2e6-e4686aa93a55"
      },
      "outputs": [
        {
          "output_type": "stream",
          "name": "stdout",
          "text": [
            "fatal: destination path 'musicComputing2025' already exists and is not an empty directory.\n"
          ]
        }
      ],
      "source": [
        "# 1) Start by importing the necessary libraries in the first cell of the notebook\n",
        "# numpy\n",
        "import numpy as np\n",
        "# matplotlib\n",
        "import matplotlib.pylab as plt\n",
        "# librosa\n",
        "import librosa\n",
        "\n",
        "\n",
        "\n",
        "#import audio files\n",
        "!git clone https://github.com/jcdevaney/musicComputing2025.git"
      ]
    },
    {
      "cell_type": "code",
      "source": [
        "# 2) Create a function that inputs the name of an audio file and a sampling rate\n",
        "\n",
        "def plotAudio(file,samplingRate):\n",
        "\n",
        "  # In the function you should use librosa.load() to open the specified filename\n",
        "  # with the specified sampling rate\n",
        "  file = 'imc2023/audioFiles/avm.wav'\n",
        "  targetsr = 44100\n",
        "  sig2 , sr2 = librosa.load(file,mono=True,sr=targetsr)\n",
        "  plt.plot(sig2)\n",
        "\n",
        "  # Use variables for the x- and y-labels\n",
        "  time2=np.arange(0,sig2.shape[0])/sr2\n",
        "  plt.plot(time2,sig2)\n",
        "  excursion2=max(abs(sig2))\n",
        "  sigNew2 = sig2 / excursion2\n",
        "  # The function should plot the time-domain (waveform) representation of the\n",
        "  # audio signal with time in seconds on the x-axis and amplitude on the y-axis\n",
        "#Scale the y-axis to represent amplitude\n",
        "  plt.plot(time2,sigNew2)\n",
        "\n",
        "#Plot a time-domain representation of the signal with matplotlib\n",
        "\n",
        "\n",
        "#Label the x and y axes\n",
        "# plt.xlabel('Time (Seconds)')\n",
        "# plt.ylabel('Amplitude')\n",
        "  xlabel = 'Time (Seconds)'\n",
        "  ylabel = 'Amplitude'\n",
        "\n",
        "  plt.xlabel(xlabel)\n",
        "  plt.ylabel(ylabel)\n",
        "\n",
        "  # Plot the signal\n"
      ],
      "metadata": {
        "id": "L66xJtpHwLCN"
      },
      "execution_count": 55,
      "outputs": []
    },
    {
      "cell_type": "code",
      "source": [
        "# 3) Run the function twice (in different cells)\n",
        "# First use ‘avm.wav’ as the filename with a sampling rate of 44100\n",
        "plotAudio(avm.wav,44100)\n"
      ],
      "metadata": {
        "id": "dUpKDEPMw57F",
        "colab": {
          "base_uri": "https://localhost:8080/",
          "height": 176
        },
        "outputId": "0e81c18f-769f-4e2d-8672-a901bfaa4c92"
      },
      "execution_count": 56,
      "outputs": [
        {
          "output_type": "error",
          "ename": "NameError",
          "evalue": "name 'avm' is not defined",
          "traceback": [
            "\u001b[0;31m---------------------------------------------------------------------------\u001b[0m",
            "\u001b[0;31mNameError\u001b[0m                                 Traceback (most recent call last)",
            "\u001b[0;32m<ipython-input-56-3e3b3f811d4a>\u001b[0m in \u001b[0;36m<cell line: 0>\u001b[0;34m()\u001b[0m\n\u001b[1;32m      1\u001b[0m \u001b[0;31m# 3) Run the function twice (in different cells)\u001b[0m\u001b[0;34m\u001b[0m\u001b[0;34m\u001b[0m\u001b[0m\n\u001b[1;32m      2\u001b[0m \u001b[0;31m# First use ‘avm.wav’ as the filename with a sampling rate of 44100\u001b[0m\u001b[0;34m\u001b[0m\u001b[0;34m\u001b[0m\u001b[0m\n\u001b[0;32m----> 3\u001b[0;31m \u001b[0mplotAudio\u001b[0m\u001b[0;34m(\u001b[0m\u001b[0mavm\u001b[0m\u001b[0;34m.\u001b[0m\u001b[0mwav\u001b[0m\u001b[0;34m,\u001b[0m\u001b[0;36m44100\u001b[0m\u001b[0;34m)\u001b[0m\u001b[0;34m\u001b[0m\u001b[0;34m\u001b[0m\u001b[0m\n\u001b[0m",
            "\u001b[0;31mNameError\u001b[0m: name 'avm' is not defined"
          ]
        }
      ]
    },
    {
      "cell_type": "code",
      "source": [
        "# Second use ‘avm.wav’ as the filename with a sampling rate of 441\n",
        "plotAudio(avm.wav,441)\n"
      ],
      "metadata": {
        "id": "PV9__PiGxCqJ"
      },
      "execution_count": null,
      "outputs": []
    }
  ]
}